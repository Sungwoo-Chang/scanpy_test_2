{
 "cells": [
  {
   "cell_type": "code",
   "execution_count": 1,
   "metadata": {},
   "outputs": [],
   "source": [
    "import scanpy as sc"
   ]
  },
  {
   "cell_type": "markdown",
   "metadata": {},
   "source": [
    "# Load data"
   ]
  },
  {
   "cell_type": "code",
   "execution_count": 2,
   "metadata": {},
   "outputs": [
    {
     "data": {
      "text/plain": [
       "AnnData object with n_obs × n_vars = 37255 × 16739\n",
       "    obs: 'sample', 'sex', 'condition', 'n_genes', 'total_counts', 'pct_counts_mito', 'pct_counts_ribo', '_scvi_batch', '_scvi_labels', 'leiden', '_scvi_raw_norm_scaling', 'cell_type'\n",
       "    var: 'n_cells'\n",
       "    uns: '_scvi_manager_uuid', '_scvi_uuid', 'cell_type_colors', 'condition_colors', 'dendrogram_cell_type', 'leiden', 'leiden_colors', 'log1p', 'markers', 'neighbors', 'pca', 'rank_genes_groups', 'sample_colors', 'scvi_markers', 'umap'\n",
       "    obsm: 'X_pca', 'X_scVI', 'X_umap', '_scvi_extra_categorical_covs', '_scvi_extra_continuous_covs'\n",
       "    varm: 'PCs'\n",
       "    layers: 'counts', 'scvi_normalized'\n",
       "    obsp: 'connectivities', 'distances'"
      ]
     },
     "execution_count": 2,
     "metadata": {},
     "output_type": "execute_result"
    }
   ],
   "source": [
    "folder_path = \"C:/Users/heung/OneDrive/Documents/scData/14. GSE136001_RAW/\"\n",
    "adata = sc.read(folder_path + \"annotated.h5ad\")\n",
    "adata"
   ]
  },
  {
   "cell_type": "markdown",
   "metadata": {},
   "source": [
    "# DE analysis by diffxpy"
   ]
  },
  {
   "cell_type": "code",
   "execution_count": 3,
   "metadata": {},
   "outputs": [],
   "source": [
    "import diffxpy.api as de"
   ]
  },
  {
   "cell_type": "code",
   "execution_count": 4,
   "metadata": {},
   "outputs": [
    {
     "data": {
      "text/plain": [
       "AnnData object with n_obs × n_vars = 28625 × 16739\n",
       "    obs: 'sample', 'sex', 'condition', 'n_genes', 'total_counts', 'pct_counts_mito', 'pct_counts_ribo', '_scvi_batch', '_scvi_labels', 'leiden', '_scvi_raw_norm_scaling', 'cell_type'\n",
       "    var: 'n_cells'\n",
       "    uns: '_scvi_manager_uuid', '_scvi_uuid', 'cell_type_colors', 'condition_colors', 'dendrogram_cell_type', 'leiden', 'leiden_colors', 'log1p', 'markers', 'neighbors', 'pca', 'rank_genes_groups', 'sample_colors', 'scvi_markers', 'umap'\n",
       "    obsm: 'X_pca', 'X_scVI', 'X_umap', '_scvi_extra_categorical_covs', '_scvi_extra_continuous_covs'\n",
       "    varm: 'PCs'\n",
       "    layers: 'counts', 'scvi_normalized'\n",
       "    obsp: 'connectivities', 'distances'"
      ]
     },
     "execution_count": 4,
     "metadata": {},
     "output_type": "execute_result"
    }
   ],
   "source": [
    "subset = adata[adata.obs['cell_type'].isin(['Microglia', 'Mo/Mp'])].copy()\n",
    "subset"
   ]
  },
  {
   "cell_type": "code",
   "execution_count": 5,
   "metadata": {},
   "outputs": [
    {
     "data": {
      "text/plain": [
       "16739"
      ]
     },
     "execution_count": 5,
     "metadata": {},
     "output_type": "execute_result"
    }
   ],
   "source": [
    "subset.X = subset.X.toarray()   # convert sparse matrix to dense matrix\n",
    "len(subset.var) # gene numbers"
   ]
  },
  {
   "cell_type": "code",
   "execution_count": 6,
   "metadata": {},
   "outputs": [
    {
     "data": {
      "text/plain": [
       "10799"
      ]
     },
     "execution_count": 6,
     "metadata": {},
     "output_type": "execute_result"
    }
   ],
   "source": [
    "# 너무 적은 cell에서 발현하는 gene 제거\n",
    "sc.pp.filter_genes(subset, min_cells=100)\n",
    "len(subset.var) # gene numbers"
   ]
  },
  {
   "cell_type": "code",
   "execution_count": 8,
   "metadata": {},
   "outputs": [
    {
     "name": "stdout",
     "output_type": "stream",
     "text": [
      "training location model: False\n",
      "training scale model: True\n",
      "iter   0: ll=4321301935.773182\n",
      "iter   1: ll=4321301935.773182, converged: 0.00% (loc: 100.00%, scale update: False), in 0.00sec\n",
      "iter   2: ll=111479409.802323, converged: 0.01% (loc: 0.01%, scale update: True), in 116.34sec\n",
      "iter   3: ll=111479409.802323, converged: 0.01% (loc: 100.00%, scale update: False), in 0.00sec\n",
      "iter   4: ll=107121031.271282, converged: 97.50% (loc: 97.50%, scale update: True), in 113.08sec\n",
      "iter   5: ll=107121031.271282, converged: 97.50% (loc: 100.00%, scale update: False), in 0.00sec\n",
      "iter   6: ll=105817448.229552, converged: 99.14% (loc: 99.14%, scale update: True), in 68.71sec\n",
      "iter   7: ll=105817448.229552, converged: 99.14% (loc: 100.00%, scale update: False), in 0.00sec\n",
      "iter   8: ll=105581900.254196, converged: 99.83% (loc: 99.83%, scale update: True), in 68.10sec\n",
      "iter   9: ll=105581900.254196, converged: 99.83% (loc: 100.00%, scale update: False), in 0.00sec\n",
      "iter  10: ll=105487967.541361, converged: 99.95% (loc: 99.95%, scale update: True), in 51.20sec\n",
      "iter  11: ll=105487967.541361, converged: 99.95% (loc: 100.00%, scale update: False), in 0.00sec\n",
      "iter  12: ll=105487341.160134, converged: 99.99% (loc: 99.99%, scale update: True), in 30.17sec\n",
      "iter  13: ll=105487341.160134, converged: 99.99% (loc: 100.00%, scale update: False), in 0.00sec\n",
      "iter  14: ll=105487341.160134, converged: 100.00% (loc: 100.00%, scale update: True), in 0.13sec\n"
     ]
    },
    {
     "ename": "ZeroDivisionError",
     "evalue": "float division by zero",
     "output_type": "error",
     "traceback": [
      "\u001b[1;31m---------------------------------------------------------------------------\u001b[0m",
      "\u001b[1;31mZeroDivisionError\u001b[0m                         Traceback (most recent call last)",
      "Cell \u001b[1;32mIn[8], line 8\u001b[0m\n\u001b[0;32m      1\u001b[0m \u001b[38;5;66;03m# # condition 끼리 비교하고 싶다면\u001b[39;00m\n\u001b[0;32m      2\u001b[0m \u001b[38;5;66;03m# res = de.test.wald(\u001b[39;00m\n\u001b[0;32m      3\u001b[0m \u001b[38;5;66;03m#     data = subset,\u001b[39;00m\n\u001b[0;32m      4\u001b[0m \u001b[38;5;66;03m#     formula_loc = '~1 + condition',\u001b[39;00m\n\u001b[0;32m      5\u001b[0m \u001b[38;5;66;03m#     factor_loc_totest = 'condition'\u001b[39;00m\n\u001b[0;32m      6\u001b[0m \u001b[38;5;66;03m# )\u001b[39;00m\n\u001b[1;32m----> 8\u001b[0m res \u001b[38;5;241m=\u001b[39m de\u001b[38;5;241m.\u001b[39mtest\u001b[38;5;241m.\u001b[39mwald(\n\u001b[0;32m      9\u001b[0m     data \u001b[38;5;241m=\u001b[39m subset,\n\u001b[0;32m     10\u001b[0m     formula_loc \u001b[38;5;241m=\u001b[39m \u001b[38;5;124m'\u001b[39m\u001b[38;5;124m~1 + cell_type\u001b[39m\u001b[38;5;124m'\u001b[39m,\n\u001b[0;32m     11\u001b[0m     factor_loc_totest \u001b[38;5;241m=\u001b[39m \u001b[38;5;124m'\u001b[39m\u001b[38;5;124mcell_type\u001b[39m\u001b[38;5;124m'\u001b[39m\n\u001b[0;32m     12\u001b[0m )\n",
      "File \u001b[1;32mc:\\Users\\heung\\anaconda3\\Lib\\site-packages\\diffxpy\\testing\\tests.py:717\u001b[0m, in \u001b[0;36mwald\u001b[1;34m(data, factor_loc_totest, coef_to_test, formula_loc, formula_scale, as_numeric, init_a, init_b, gene_names, sample_description, dmat_loc, dmat_scale, constraints_loc, constraints_scale, noise_model, size_factors, batch_size, backend, train_args, training_strategy, quick_scale, dtype, **kwargs)\u001b[0m\n\u001b[0;32m    714\u001b[0m col_indices \u001b[38;5;241m=\u001b[39m np\u001b[38;5;241m.\u001b[39marray([np\u001b[38;5;241m.\u001b[39mwhere(constraints_loc_temp[x, :] \u001b[38;5;241m==\u001b[39m \u001b[38;5;241m1\u001b[39m)[\u001b[38;5;241m0\u001b[39m][\u001b[38;5;241m0\u001b[39m] \u001b[38;5;28;01mfor\u001b[39;00m x \u001b[38;5;129;01min\u001b[39;00m col_indices])\n\u001b[0;32m    716\u001b[0m \u001b[38;5;66;03m# Fit model.\u001b[39;00m\n\u001b[1;32m--> 717\u001b[0m model \u001b[38;5;241m=\u001b[39m _fit(\n\u001b[0;32m    718\u001b[0m     noise_model\u001b[38;5;241m=\u001b[39mnoise_model,\n\u001b[0;32m    719\u001b[0m     data\u001b[38;5;241m=\u001b[39mdata,\n\u001b[0;32m    720\u001b[0m     design_loc\u001b[38;5;241m=\u001b[39mdesign_loc,\n\u001b[0;32m    721\u001b[0m     design_scale\u001b[38;5;241m=\u001b[39mdesign_scale,\n\u001b[0;32m    722\u001b[0m     design_loc_names\u001b[38;5;241m=\u001b[39mdesign_loc_names,\n\u001b[0;32m    723\u001b[0m     design_scale_names\u001b[38;5;241m=\u001b[39mdesign_scale_names,\n\u001b[0;32m    724\u001b[0m     constraints_loc\u001b[38;5;241m=\u001b[39mconstraints_loc,\n\u001b[0;32m    725\u001b[0m     constraints_scale\u001b[38;5;241m=\u001b[39mconstraints_scale,\n\u001b[0;32m    726\u001b[0m     init_a\u001b[38;5;241m=\u001b[39minit_a,\n\u001b[0;32m    727\u001b[0m     init_b\u001b[38;5;241m=\u001b[39minit_b,\n\u001b[0;32m    728\u001b[0m     gene_names\u001b[38;5;241m=\u001b[39mgene_names,\n\u001b[0;32m    729\u001b[0m     size_factors\u001b[38;5;241m=\u001b[39msize_factors,\n\u001b[0;32m    730\u001b[0m     batch_size\u001b[38;5;241m=\u001b[39mbatch_size,\n\u001b[0;32m    731\u001b[0m     backend\u001b[38;5;241m=\u001b[39mbackend,\n\u001b[0;32m    732\u001b[0m     train_args\u001b[38;5;241m=\u001b[39mtrain_args,\n\u001b[0;32m    733\u001b[0m     training_strategy\u001b[38;5;241m=\u001b[39mtraining_strategy,\n\u001b[0;32m    734\u001b[0m     quick_scale\u001b[38;5;241m=\u001b[39mquick_scale,\n\u001b[0;32m    735\u001b[0m     dtype\u001b[38;5;241m=\u001b[39mdtype,\n\u001b[0;32m    736\u001b[0m     \u001b[38;5;241m*\u001b[39m\u001b[38;5;241m*\u001b[39mkwargs,\n\u001b[0;32m    737\u001b[0m )\n\u001b[0;32m    739\u001b[0m \u001b[38;5;66;03m# Prepare differential expression test.\u001b[39;00m\n\u001b[0;32m    740\u001b[0m de_test \u001b[38;5;241m=\u001b[39m DifferentialExpressionTestWald(\n\u001b[0;32m    741\u001b[0m     model_estim\u001b[38;5;241m=\u001b[39mmodel,\n\u001b[0;32m    742\u001b[0m     col_indices\u001b[38;5;241m=\u001b[39mcol_indices,\n\u001b[0;32m    743\u001b[0m     noise_model\u001b[38;5;241m=\u001b[39mnoise_model,\n\u001b[0;32m    744\u001b[0m     sample_description\u001b[38;5;241m=\u001b[39msample_description\n\u001b[0;32m    745\u001b[0m )\n",
      "File \u001b[1;32mc:\\Users\\heung\\anaconda3\\Lib\\site-packages\\diffxpy\\testing\\tests.py:248\u001b[0m, in \u001b[0;36m_fit\u001b[1;34m(noise_model, data, design_loc, design_scale, design_loc_names, design_scale_names, constraints_loc, constraints_scale, init_model, init_a, init_b, gene_names, size_factors, batch_size, backend, training_strategy, quick_scale, train_args, close_session, dtype)\u001b[0m\n\u001b[0;32m    242\u001b[0m estim\u001b[38;5;241m.\u001b[39mtrain_sequence(\n\u001b[0;32m    243\u001b[0m     training_strategy\u001b[38;5;241m=\u001b[39mtraining_strategy,\n\u001b[0;32m    244\u001b[0m     \u001b[38;5;241m*\u001b[39m\u001b[38;5;241m*\u001b[39mtrain_args\n\u001b[0;32m    245\u001b[0m )\n\u001b[0;32m    247\u001b[0m \u001b[38;5;28;01mif\u001b[39;00m close_session:\n\u001b[1;32m--> 248\u001b[0m     estim\u001b[38;5;241m.\u001b[39mfinalize()\n\u001b[0;32m    249\u001b[0m \u001b[38;5;28;01mreturn\u001b[39;00m estim\n",
      "File \u001b[1;32mc:\\Users\\heung\\anaconda3\\Lib\\site-packages\\batchglm\\train\\numpy\\base_glm\\estimator.py:544\u001b[0m, in \u001b[0;36mEstimatorGlm.finalize\u001b[1;34m(self)\u001b[0m\n\u001b[0;32m    536\u001b[0m \u001b[38;5;250m\u001b[39m\u001b[38;5;124;03m\"\"\"\u001b[39;00m\n\u001b[0;32m    537\u001b[0m \u001b[38;5;124;03mEvaluate all tensors that need to be exported from session and save these as class attributes\u001b[39;00m\n\u001b[0;32m    538\u001b[0m \u001b[38;5;124;03mand close session.\u001b[39;00m\n\u001b[1;32m   (...)\u001b[0m\n\u001b[0;32m    541\u001b[0m \u001b[38;5;124;03mtransfers relevant attributes.\u001b[39;00m\n\u001b[0;32m    542\u001b[0m \u001b[38;5;124;03m\"\"\"\u001b[39;00m\n\u001b[0;32m    543\u001b[0m \u001b[38;5;66;03m# Read from numpy-IRLS estimator specific model:\u001b[39;00m\n\u001b[1;32m--> 544\u001b[0m \u001b[38;5;28mself\u001b[39m\u001b[38;5;241m.\u001b[39m_hessian \u001b[38;5;241m=\u001b[39m \u001b[38;5;241m-\u001b[39m \u001b[38;5;28mself\u001b[39m\u001b[38;5;241m.\u001b[39mmodel\u001b[38;5;241m.\u001b[39mfim\u001b[38;5;241m.\u001b[39mcompute()\n\u001b[0;32m    545\u001b[0m fisher_inv \u001b[38;5;241m=\u001b[39m np\u001b[38;5;241m.\u001b[39mzeros_like(\u001b[38;5;28mself\u001b[39m\u001b[38;5;241m.\u001b[39m_hessian)\n\u001b[0;32m    546\u001b[0m invertible \u001b[38;5;241m=\u001b[39m np\u001b[38;5;241m.\u001b[39mwhere(np\u001b[38;5;241m.\u001b[39mlinalg\u001b[38;5;241m.\u001b[39mcond(\u001b[38;5;28mself\u001b[39m\u001b[38;5;241m.\u001b[39m_hessian, p\u001b[38;5;241m=\u001b[39m\u001b[38;5;28;01mNone\u001b[39;00m) \u001b[38;5;241m<\u001b[39m \u001b[38;5;241m1\u001b[39m \u001b[38;5;241m/\u001b[39m sys\u001b[38;5;241m.\u001b[39mfloat_info\u001b[38;5;241m.\u001b[39mepsilon)[\u001b[38;5;241m0\u001b[39m]\n",
      "File \u001b[1;32mc:\\Users\\heung\\anaconda3\\Lib\\site-packages\\batchglm\\train\\numpy\\base_glm\\model.py:136\u001b[0m, in \u001b[0;36mModelIwls.fim\u001b[1;34m(self)\u001b[0m\n\u001b[0;32m    133\u001b[0m fim_ab \u001b[38;5;241m=\u001b[39m \u001b[38;5;28mself\u001b[39m\u001b[38;5;241m.\u001b[39mfim_ab\n\u001b[0;32m    134\u001b[0m fim_ba \u001b[38;5;241m=\u001b[39m np\u001b[38;5;241m.\u001b[39mtranspose(fim_ab, axes\u001b[38;5;241m=\u001b[39m[\u001b[38;5;241m0\u001b[39m, \u001b[38;5;241m2\u001b[39m, \u001b[38;5;241m1\u001b[39m])\n\u001b[0;32m    135\u001b[0m \u001b[38;5;28;01mreturn\u001b[39;00m \u001b[38;5;241m-\u001b[39m np\u001b[38;5;241m.\u001b[39mconcatenate([\n\u001b[1;32m--> 136\u001b[0m     np\u001b[38;5;241m.\u001b[39mconcatenate([fim_aa, fim_ab], axis\u001b[38;5;241m=\u001b[39m\u001b[38;5;241m2\u001b[39m),\n\u001b[0;32m    137\u001b[0m     np\u001b[38;5;241m.\u001b[39mconcatenate([fim_ba, fim_bb], axis\u001b[38;5;241m=\u001b[39m\u001b[38;5;241m2\u001b[39m)\n\u001b[0;32m    138\u001b[0m ], axis\u001b[38;5;241m=\u001b[39m\u001b[38;5;241m1\u001b[39m)\n",
      "File \u001b[1;32m<__array_function__ internals>:200\u001b[0m, in \u001b[0;36mconcatenate\u001b[1;34m(*args, **kwargs)\u001b[0m\n",
      "File \u001b[1;32mc:\\Users\\heung\\anaconda3\\Lib\\site-packages\\dask\\array\\core.py:1760\u001b[0m, in \u001b[0;36mArray.__array_function__\u001b[1;34m(self, func, types, args, kwargs)\u001b[0m\n\u001b[0;32m   1757\u001b[0m \u001b[38;5;28;01mif\u001b[39;00m has_keyword(da_func, \u001b[38;5;124m\"\u001b[39m\u001b[38;5;124mlike\u001b[39m\u001b[38;5;124m\"\u001b[39m):\n\u001b[0;32m   1758\u001b[0m     kwargs[\u001b[38;5;124m\"\u001b[39m\u001b[38;5;124mlike\u001b[39m\u001b[38;5;124m\"\u001b[39m] \u001b[38;5;241m=\u001b[39m \u001b[38;5;28mself\u001b[39m\n\u001b[1;32m-> 1760\u001b[0m \u001b[38;5;28;01mreturn\u001b[39;00m da_func(\u001b[38;5;241m*\u001b[39margs, \u001b[38;5;241m*\u001b[39m\u001b[38;5;241m*\u001b[39mkwargs)\n",
      "File \u001b[1;32mc:\\Users\\heung\\anaconda3\\Lib\\site-packages\\dask\\array\\core.py:4239\u001b[0m, in \u001b[0;36mconcatenate\u001b[1;34m(seq, axis, allow_unknown_chunksizes)\u001b[0m\n\u001b[0;32m   4195\u001b[0m \u001b[38;5;250m\u001b[39m\u001b[38;5;124;03m\"\"\"\u001b[39;00m\n\u001b[0;32m   4196\u001b[0m \u001b[38;5;124;03mConcatenate arrays along an existing axis\u001b[39;00m\n\u001b[0;32m   4197\u001b[0m \n\u001b[1;32m   (...)\u001b[0m\n\u001b[0;32m   4235\u001b[0m \u001b[38;5;124;03mstack\u001b[39;00m\n\u001b[0;32m   4236\u001b[0m \u001b[38;5;124;03m\"\"\"\u001b[39;00m\n\u001b[0;32m   4237\u001b[0m \u001b[38;5;28;01mfrom\u001b[39;00m \u001b[38;5;21;01mdask\u001b[39;00m\u001b[38;5;21;01m.\u001b[39;00m\u001b[38;5;21;01marray\u001b[39;00m \u001b[38;5;28;01mimport\u001b[39;00m wrap\n\u001b[1;32m-> 4239\u001b[0m seq \u001b[38;5;241m=\u001b[39m [asarray(a, allow_unknown_chunksizes\u001b[38;5;241m=\u001b[39mallow_unknown_chunksizes) \u001b[38;5;28;01mfor\u001b[39;00m a \u001b[38;5;129;01min\u001b[39;00m seq]\n\u001b[0;32m   4241\u001b[0m \u001b[38;5;28;01mif\u001b[39;00m \u001b[38;5;129;01mnot\u001b[39;00m seq:\n\u001b[0;32m   4242\u001b[0m     \u001b[38;5;28;01mraise\u001b[39;00m \u001b[38;5;167;01mValueError\u001b[39;00m(\u001b[38;5;124m\"\u001b[39m\u001b[38;5;124mNeed array(s) to concatenate\u001b[39m\u001b[38;5;124m\"\u001b[39m)\n",
      "File \u001b[1;32mc:\\Users\\heung\\anaconda3\\Lib\\site-packages\\dask\\array\\core.py:4239\u001b[0m, in \u001b[0;36m<listcomp>\u001b[1;34m(.0)\u001b[0m\n\u001b[0;32m   4195\u001b[0m \u001b[38;5;250m\u001b[39m\u001b[38;5;124;03m\"\"\"\u001b[39;00m\n\u001b[0;32m   4196\u001b[0m \u001b[38;5;124;03mConcatenate arrays along an existing axis\u001b[39;00m\n\u001b[0;32m   4197\u001b[0m \n\u001b[1;32m   (...)\u001b[0m\n\u001b[0;32m   4235\u001b[0m \u001b[38;5;124;03mstack\u001b[39;00m\n\u001b[0;32m   4236\u001b[0m \u001b[38;5;124;03m\"\"\"\u001b[39;00m\n\u001b[0;32m   4237\u001b[0m \u001b[38;5;28;01mfrom\u001b[39;00m \u001b[38;5;21;01mdask\u001b[39;00m\u001b[38;5;21;01m.\u001b[39;00m\u001b[38;5;21;01marray\u001b[39;00m \u001b[38;5;28;01mimport\u001b[39;00m wrap\n\u001b[1;32m-> 4239\u001b[0m seq \u001b[38;5;241m=\u001b[39m [asarray(a, allow_unknown_chunksizes\u001b[38;5;241m=\u001b[39mallow_unknown_chunksizes) \u001b[38;5;28;01mfor\u001b[39;00m a \u001b[38;5;129;01min\u001b[39;00m seq]\n\u001b[0;32m   4241\u001b[0m \u001b[38;5;28;01mif\u001b[39;00m \u001b[38;5;129;01mnot\u001b[39;00m seq:\n\u001b[0;32m   4242\u001b[0m     \u001b[38;5;28;01mraise\u001b[39;00m \u001b[38;5;167;01mValueError\u001b[39;00m(\u001b[38;5;124m\"\u001b[39m\u001b[38;5;124mNeed array(s) to concatenate\u001b[39m\u001b[38;5;124m\"\u001b[39m)\n",
      "File \u001b[1;32mc:\\Users\\heung\\anaconda3\\Lib\\site-packages\\dask\\array\\core.py:4584\u001b[0m, in \u001b[0;36masarray\u001b[1;34m(a, allow_unknown_chunksizes, dtype, order, like, **kwargs)\u001b[0m\n\u001b[0;32m   4582\u001b[0m     \u001b[38;5;28;01melse\u001b[39;00m:\n\u001b[0;32m   4583\u001b[0m         a \u001b[38;5;241m=\u001b[39m np\u001b[38;5;241m.\u001b[39masarray(a, like\u001b[38;5;241m=\u001b[39mlike_meta, dtype\u001b[38;5;241m=\u001b[39mdtype, order\u001b[38;5;241m=\u001b[39morder)\n\u001b[1;32m-> 4584\u001b[0m \u001b[38;5;28;01mreturn\u001b[39;00m from_array(a, getitem\u001b[38;5;241m=\u001b[39mgetter_inline, \u001b[38;5;241m*\u001b[39m\u001b[38;5;241m*\u001b[39mkwargs)\n",
      "File \u001b[1;32mc:\\Users\\heung\\anaconda3\\Lib\\site-packages\\dask\\array\\core.py:3491\u001b[0m, in \u001b[0;36mfrom_array\u001b[1;34m(x, chunks, name, lock, asarray, fancy, getitem, meta, inline_array)\u001b[0m\n\u001b[0;32m   3487\u001b[0m     asarray \u001b[38;5;241m=\u001b[39m \u001b[38;5;129;01mnot\u001b[39;00m \u001b[38;5;28mhasattr\u001b[39m(x, \u001b[38;5;124m\"\u001b[39m\u001b[38;5;124m__array_function__\u001b[39m\u001b[38;5;124m\"\u001b[39m)\n\u001b[0;32m   3489\u001b[0m previous_chunks \u001b[38;5;241m=\u001b[39m \u001b[38;5;28mgetattr\u001b[39m(x, \u001b[38;5;124m\"\u001b[39m\u001b[38;5;124mchunks\u001b[39m\u001b[38;5;124m\"\u001b[39m, \u001b[38;5;28;01mNone\u001b[39;00m)\n\u001b[1;32m-> 3491\u001b[0m chunks \u001b[38;5;241m=\u001b[39m normalize_chunks(\n\u001b[0;32m   3492\u001b[0m     chunks, x\u001b[38;5;241m.\u001b[39mshape, dtype\u001b[38;5;241m=\u001b[39mx\u001b[38;5;241m.\u001b[39mdtype, previous_chunks\u001b[38;5;241m=\u001b[39mprevious_chunks\n\u001b[0;32m   3493\u001b[0m )\n\u001b[0;32m   3495\u001b[0m \u001b[38;5;28;01mif\u001b[39;00m name \u001b[38;5;129;01min\u001b[39;00m (\u001b[38;5;28;01mNone\u001b[39;00m, \u001b[38;5;28;01mTrue\u001b[39;00m):\n\u001b[0;32m   3496\u001b[0m     token \u001b[38;5;241m=\u001b[39m tokenize(x, chunks, lock, asarray, fancy, getitem, inline_array)\n",
      "File \u001b[1;32mc:\\Users\\heung\\anaconda3\\Lib\\site-packages\\dask\\array\\core.py:3098\u001b[0m, in \u001b[0;36mnormalize_chunks\u001b[1;34m(chunks, shape, limit, dtype, previous_chunks)\u001b[0m\n\u001b[0;32m   3095\u001b[0m chunks \u001b[38;5;241m=\u001b[39m \u001b[38;5;28mtuple\u001b[39m(\u001b[38;5;124m\"\u001b[39m\u001b[38;5;124mauto\u001b[39m\u001b[38;5;124m\"\u001b[39m \u001b[38;5;28;01mif\u001b[39;00m \u001b[38;5;28misinstance\u001b[39m(c, \u001b[38;5;28mstr\u001b[39m) \u001b[38;5;129;01mand\u001b[39;00m c \u001b[38;5;241m!=\u001b[39m \u001b[38;5;124m\"\u001b[39m\u001b[38;5;124mauto\u001b[39m\u001b[38;5;124m\"\u001b[39m \u001b[38;5;28;01melse\u001b[39;00m c \u001b[38;5;28;01mfor\u001b[39;00m c \u001b[38;5;129;01min\u001b[39;00m chunks)\n\u001b[0;32m   3097\u001b[0m \u001b[38;5;28;01mif\u001b[39;00m \u001b[38;5;28many\u001b[39m(c \u001b[38;5;241m==\u001b[39m \u001b[38;5;124m\"\u001b[39m\u001b[38;5;124mauto\u001b[39m\u001b[38;5;124m\"\u001b[39m \u001b[38;5;28;01mfor\u001b[39;00m c \u001b[38;5;129;01min\u001b[39;00m chunks):\n\u001b[1;32m-> 3098\u001b[0m     chunks \u001b[38;5;241m=\u001b[39m auto_chunks(chunks, shape, limit, dtype, previous_chunks)\n\u001b[0;32m   3100\u001b[0m \u001b[38;5;28;01mif\u001b[39;00m shape \u001b[38;5;129;01mis\u001b[39;00m \u001b[38;5;129;01mnot\u001b[39;00m \u001b[38;5;28;01mNone\u001b[39;00m:\n\u001b[0;32m   3101\u001b[0m     chunks \u001b[38;5;241m=\u001b[39m \u001b[38;5;28mtuple\u001b[39m(c \u001b[38;5;28;01mif\u001b[39;00m c \u001b[38;5;129;01mnot\u001b[39;00m \u001b[38;5;129;01min\u001b[39;00m {\u001b[38;5;28;01mNone\u001b[39;00m, \u001b[38;5;241m-\u001b[39m\u001b[38;5;241m1\u001b[39m} \u001b[38;5;28;01melse\u001b[39;00m s \u001b[38;5;28;01mfor\u001b[39;00m c, s \u001b[38;5;129;01min\u001b[39;00m \u001b[38;5;28mzip\u001b[39m(chunks, shape))\n",
      "File \u001b[1;32mc:\\Users\\heung\\anaconda3\\Lib\\site-packages\\dask\\array\\core.py:3280\u001b[0m, in \u001b[0;36mauto_chunks\u001b[1;34m(chunks, shape, limit, dtype, previous_chunks)\u001b[0m\n\u001b[0;32m   3278\u001b[0m     \u001b[38;5;28;01mfor\u001b[39;00m i \u001b[38;5;129;01min\u001b[39;00m small:\n\u001b[0;32m   3279\u001b[0m         chunks[i] \u001b[38;5;241m=\u001b[39m (shape[i],)\n\u001b[1;32m-> 3280\u001b[0m     \u001b[38;5;28;01mreturn\u001b[39;00m auto_chunks(chunks, shape, limit, dtype)\n\u001b[0;32m   3282\u001b[0m \u001b[38;5;28;01mfor\u001b[39;00m i \u001b[38;5;129;01min\u001b[39;00m autos:\n\u001b[0;32m   3283\u001b[0m     chunks[i] \u001b[38;5;241m=\u001b[39m round_to(size, shape[i])\n",
      "File \u001b[1;32mc:\\Users\\heung\\anaconda3\\Lib\\site-packages\\dask\\array\\core.py:3275\u001b[0m, in \u001b[0;36mauto_chunks\u001b[1;34m(chunks, shape, limit, dtype, previous_chunks)\u001b[0m\n\u001b[0;32m   3271\u001b[0m \u001b[38;5;28;01mif\u001b[39;00m dtype\u001b[38;5;241m.\u001b[39mitemsize \u001b[38;5;241m==\u001b[39m \u001b[38;5;241m0\u001b[39m:\n\u001b[0;32m   3272\u001b[0m     \u001b[38;5;28;01mraise\u001b[39;00m \u001b[38;5;167;01mValueError\u001b[39;00m(\n\u001b[0;32m   3273\u001b[0m         \u001b[38;5;124m\"\u001b[39m\u001b[38;5;124mauto-chunking with dtype.itemsize == 0 is not supported, please pass in `chunks` explicitly\u001b[39m\u001b[38;5;124m\"\u001b[39m\n\u001b[0;32m   3274\u001b[0m     )\n\u001b[1;32m-> 3275\u001b[0m size \u001b[38;5;241m=\u001b[39m (limit \u001b[38;5;241m/\u001b[39m dtype\u001b[38;5;241m.\u001b[39mitemsize \u001b[38;5;241m/\u001b[39m largest_block) \u001b[38;5;241m*\u001b[39m\u001b[38;5;241m*\u001b[39m (\u001b[38;5;241m1\u001b[39m \u001b[38;5;241m/\u001b[39m \u001b[38;5;28mlen\u001b[39m(autos))\n\u001b[0;32m   3276\u001b[0m small \u001b[38;5;241m=\u001b[39m [i \u001b[38;5;28;01mfor\u001b[39;00m i \u001b[38;5;129;01min\u001b[39;00m autos \u001b[38;5;28;01mif\u001b[39;00m shape[i] \u001b[38;5;241m<\u001b[39m size]\n\u001b[0;32m   3277\u001b[0m \u001b[38;5;28;01mif\u001b[39;00m small:\n",
      "\u001b[1;31mZeroDivisionError\u001b[0m: float division by zero"
     ]
    }
   ],
   "source": [
    "# # condition 끼리 비교하고 싶다면\n",
    "# res = de.test.wald(\n",
    "#     data = subset,\n",
    "#     formula_loc = '~1 + condition',\n",
    "#     factor_loc_totest = 'condition'\n",
    "# )\n",
    "\n",
    "res = de.test.wald(\n",
    "    data = subset,\n",
    "    formula_loc = '~1 + cell_type',\n",
    "    factor_loc_totest = 'cell_type'\n",
    ")"
   ]
  }
 ],
 "metadata": {
  "kernelspec": {
   "display_name": "JSW_conda",
   "language": "python",
   "name": "conda"
  },
  "language_info": {
   "codemirror_mode": {
    "name": "ipython",
    "version": 3
   },
   "file_extension": ".py",
   "mimetype": "text/x-python",
   "name": "python",
   "nbconvert_exporter": "python",
   "pygments_lexer": "ipython3",
   "version": "3.11.9"
  }
 },
 "nbformat": 4,
 "nbformat_minor": 2
}
